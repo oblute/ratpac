{
 "cells": [
  {
   "cell_type": "code",
   "execution_count": null,
   "metadata": {},
   "outputs": [],
   "source": [
    "# import packages\n",
    "\n",
    "import re\n",
    "import string\n",
    "import spacy\n",
    "import pandas as pd\n",
    "import numpy as np\n",
    "import matplotlib.pyplot as plt\n",
    "\n",
    "from geopy import geocoders\n",
    "\n",
    "# SpaCy has own Stop Words (useless words for analysis) dicitonary to use for removal.\n",
    "from spacy.lang.en.stop_words import STOP_WORDS\n",
    "\n",
    "# A scikit-learn combatible visualizer for word frequency\n",
    "from wordcloud import WordCloud, STOPWORDS, ImageColorGenerator\n",
    "\n",
    "# For later sentence scoring\n",
    "from heapq import nlargest\n"
   ]
  },
  {
   "cell_type": "code",
   "execution_count": null,
   "metadata": {},
   "outputs": [],
   "source": [
    "# Load spacy English tokenizer, tagger, parser,and  word vectors\n",
    "nlp = spacy.load('en')\n",
    "\n",
    "# Initialize stopwords variable with spacy\n",
    "stopwords = spacy.lang.en.stop_words.STOP_WORDS\n",
    "\n",
    "# Load in text/whole documents and create Doc nlp object\n",
    "input_str = open(\"wiki.txt\").read() # full text -- enter path to txt HERE\n",
    "article_1 = input_str[:42689] # segment first full article for analysis\n",
    "doc = nlp(article_1) # create doc object for article"
   ]
  },
  {
   "cell_type": "code",
   "execution_count": null,
   "metadata": {},
   "outputs": [],
   "source": [
    "# Print Original Article\n",
    "print()\n",
    "print(\"\\033[1m\" + 'Original Article: ' + \"\\033[0m\" + '%s' % (article_1[:250])) # adjust article display length accordingly\n",
    "print()\n",
    "print(\"____________________________________\")\n",
    "print()\n"
   ]
  },
  {
   "cell_type": "code",
   "execution_count": null,
   "metadata": {},
   "outputs": [],
   "source": [
    "# create dictionaries\n",
    "word_frequencies2 = {}\n",
    "word_frequencies_dist = {}\n",
    "entities = {}\n",
    "sentence_scores = {}"
   ]
  },
  {
   "cell_type": "code",
   "execution_count": null,
   "metadata": {},
   "outputs": [],
   "source": [
    "# text preprocessing\n",
    "s = article_1.lower() # convert string to lowercase for simplicity\n",
    "s = re.sub(r' \\d+', '', article_1) # remove numbers from string\n",
    "s = article_1.translate(str.maketrans(\"\", \"\", string.punctuation)) # remove special characters from string\n",
    "tokens = nlp(s) # tokenize - split string into words\n",
    "tokens = [t for t in tokens if len(t) > 2] # remove short words\n",
    "tokens = [t for t in tokens if t not in stopwords] # remove stop words"
   ]
  },
  {
   "cell_type": "code",
   "execution_count": null,
   "metadata": {},
   "outputs": [],
   "source": [
    "# Print tokens of original article\n",
    "print(\"\\033[1m\" + 'Tokens:' + \"\\033[0m\", tokens)\n",
    "print()\n",
    "print(\"____________________________________\")\n",
    "print()\n",
    "\n",
    "# Print Recognized noun phrases from text\n",
    "print(\"\\033[1m\" + \"Noun phrases:\" + \"\\033[0m\", [chunk.text for chunk in doc.noun_chunks])\n",
    "\n",
    "# Print Recognized verbs from text\n",
    "print(\"\\033[1m\" + \"Verbs:\" + \"\\033[0m\", [token.lemma_ for token in doc if token.pos_ == \"VERB\"])\n",
    "print()\n",
    "print(\"____________________________________\")\n",
    "print()\n"
   ]
  },
  {
   "cell_type": "code",
   "execution_count": null,
   "metadata": {},
   "outputs": [],
   "source": [
    "# Find named entities, phrases and concepts\n",
    "for entity in doc.ents:\n",
    "    entities.update({entity.text: entity.label_})\n",
    "\n",
    "# Location-specific entity locations dictionary\n",
    "entity_locations = dict()\n",
    "\n",
    "for k, v in entities.items():\n",
    "    if v == 'LOC' or v == 'GPE':\n",
    "        geolocator = geocoders.GoogleV3(api_key='') # enter API key HERE\n",
    "        location_info = geolocator.geocode(k, timeout=100)\n",
    "        entity_locations.update({k : location_info})\n"
   ]
  },
  {
   "cell_type": "code",
   "execution_count": null,
   "metadata": {},
   "outputs": [],
   "source": [
    "# Print Entities\n",
    "print(\"\\033[1m\" + \"Entities: \" + \"\\033[0m\", entities)\n",
    "print(\"\\033[1m\" + \"Location-specific Entities: \" + \"\\033[0m\", entity_locations)\n",
    "print()\n",
    "print(\"____________________________________\")\n",
    "print()"
   ]
  },
  {
   "cell_type": "code",
   "execution_count": null,
   "metadata": {},
   "outputs": [],
   "source": [
    "# Build word frequency dictionary\n",
    "for t in tokens:\n",
    "    if t.text not in stopwords:\n",
    "        if len(t.text) > 2:\n",
    "            if t.text not in word_frequencies2.keys():\n",
    "                word_frequencies2[t.text] = 1\n",
    "            else:\n",
    "                word_frequencies2[t.text] += 1\n"
   ]
  },
  {
   "cell_type": "code",
   "execution_count": null,
   "metadata": {},
   "outputs": [],
   "source": [
    "# Print Word Frequency Table\n",
    "print(\"\\033[1m\" + \"Word Frequency:\" + \"\\033[0m\", sorted(word_frequencies2.items(), key=lambda x: x[1], reverse=True))"
   ]
  },
  {
   "cell_type": "code",
   "execution_count": null,
   "metadata": {},
   "outputs": [],
   "source": [
    "# Find Maximum Word Frequency\n",
    "maximum_frequency = max(word_frequencies2.values())\n",
    "\n",
    "for word in word_frequencies2.keys():\n",
    "    word_frequencies_dist[word] = (word_frequencies2[word] / maximum_frequency)"
   ]
  },
  {
   "cell_type": "code",
   "execution_count": null,
   "metadata": {},
   "outputs": [],
   "source": [
    "# Print Weighted Frequency Table Distribution\n",
    "print(\"\\033[1m\" + \"Weighted Word Frequency Distribution:\" + \"\\033[0m\",\n",
    "        sorted(word_frequencies_dist.items(), key=lambda x: x[1], reverse=True))\n",
    "print()\n",
    "print(\"____________________________________\")\n",
    "print()\n"
   ]
  },
  {
   "cell_type": "code",
   "execution_count": null,
   "metadata": {},
   "outputs": [],
   "source": [
    "# Sentence Score and Ranking of Words in each sentence\n",
    "# This scores every sentence based on number of non-stopwords\n",
    "\n",
    "# Sentence Tokens\n",
    "sentence_list = [sentence for sentence in doc.sents]\n",
    "\n",
    "# Sentence Score via comparing each word with sentence\n",
    "\n",
    "for sent in sentence_list:\n",
    "    for word in sent:\n",
    "        if word.text.lower() in word_frequencies_dist.keys():\n",
    "            if len(sent.text.split(' ')) < 30:\n",
    "                if sent not in sentence_scores.keys():\n",
    "                    sentence_scores[sent] = word_frequencies_dist[word.text.lower()]\n",
    "                else:\n",
    "                    sentence_scores[sent] += word_frequencies_dist[word.text.lower()]"
   ]
  },
  {
   "cell_type": "code",
   "execution_count": null,
   "metadata": {},
   "outputs": [],
   "source": [
    "# Print Sentence Scores\n",
    "print(\"\\033[1m\" + \"Sentence Scores:\" + \"\\033[0m\", sentence_scores)\n",
    "print()\n",
    "print(\"____________________________________\")\n",
    "print()"
   ]
  },
  {
   "cell_type": "code",
   "execution_count": null,
   "metadata": {},
   "outputs": [],
   "source": [
    "# Finding top N sentence with largest score\n",
    "summarized_sentences = nlargest(7, sentence_scores, key=sentence_scores.get)\n",
    "\n",
    "# List Comprehension of Sentences Converted From Spacy.span to strings\n",
    "final_sentences = [w.text for w in summarized_sentences]\n",
    "\n",
    "# Spacy Summary of text\n",
    "summary = ' '.join(final_sentences)"
   ]
  },
  {
   "cell_type": "code",
   "execution_count": null,
   "metadata": {},
   "outputs": [],
   "source": [
    "# Print SpaCy Summary\n",
    "print(\"\\033[1m\" + \"Spacy Summary:\" + \"\\033[0m\", summary)\n",
    "print(\"____________________________________\")\n",
    "print()\n"
   ]
  },
  {
   "cell_type": "code",
   "execution_count": null,
   "metadata": {},
   "outputs": [],
   "source": [
    "# Produce WordCloud for visual representation of word frequency\n",
    "wordcloud = WordCloud().generate(article_1)\n",
    "plt.imshow(wordcloud, interpolation='bilinear')\n",
    "plt.axis(\"off\")\n",
    "plt.show()"
   ]
  }
 ],
 "metadata": {
  "kernelspec": {
   "display_name": "Python 3",
   "language": "python",
   "name": "python3"
  },
  "language_info": {
   "codemirror_mode": {
    "name": "ipython",
    "version": 3
   },
   "file_extension": ".py",
   "mimetype": "text/x-python",
   "name": "python",
   "nbconvert_exporter": "python",
   "pygments_lexer": "ipython3",
   "version": "3.7.3"
  }
 },
 "nbformat": 4,
 "nbformat_minor": 2
}
